{
  "nbformat": 4,
  "nbformat_minor": 0,
  "metadata": {
    "colab": {
      "name": "Лабораторная 7",
      "provenance": [],
      "authorship_tag": "ABX9TyMjJ1IGrSPoS9DYPkDRZFYN",
      "include_colab_link": true
    },
    "kernelspec": {
      "name": "python3",
      "display_name": "Python 3"
    },
    "language_info": {
      "name": "python"
    }
  },
  "cells": [
    {
      "cell_type": "markdown",
      "metadata": {
        "id": "view-in-github",
        "colab_type": "text"
      },
      "source": [
        "<a href=\"https://colab.research.google.com/github/MakarovaVS/-/blob/main/%D0%9B%D0%B0%D0%B1%D0%BE%D1%80%D0%B0%D1%82%D0%BE%D1%80%D0%BD%D0%B0%D1%8F_7.ipynb\" target=\"_parent\"><img src=\"https://colab.research.google.com/assets/colab-badge.svg\" alt=\"Open In Colab\"/></a>"
      ]
    },
    {
      "cell_type": "markdown",
      "source": [
        "Для задач 7.2.1-7.2.5 приведено условие задачи и ее решение (ошибочное).\n",
        "\n",
        "Для каждой задачи:\n",
        "\n",
        "используя визуальный просмотр кода, простое журналирование, проверку PEP8 или отладчик в IDE:\n",
        "\n",
        "разберитесь в алгоритме решения;\n",
        "\n",
        "найдите номера строк, в которых есть ошибки, и укажите их в строке документации;\n",
        "\n",
        "исправьте ошибки, минимально изменив код (как правило, заменив строчку на строчку); ошибки исправляются по ходу программы, сверху вниз.\n",
        "\n"
      ],
      "metadata": {
        "id": "njJZqF5SE2Oj"
      }
    },
    {
      "cell_type": "code",
      "execution_count": 1,
      "metadata": {
        "colab": {
          "base_uri": "https://localhost:8080/"
        },
        "id": "vge6ffaMEj26",
        "outputId": "38967553-a216-4795-c533-3bb4b39daa39"
      },
      "outputs": [
        {
          "output_type": "execute_result",
          "data": {
            "text/plain": [
              "7"
            ]
          },
          "metadata": {},
          "execution_count": 1
        }
      ],
      "source": [
        "# Программирование на языке высокого уровня (Python).\n",
        "# https://www.yuripetrov.ru/edu/python\n",
        "# Задание task_07_02_01.\n",
        "\n",
        "# Выполнил: Макарова В.С.\n",
        "# Группа: АДЭУ-211\n",
        "# E-mail: Makarova_VS@mgpu.ru\n",
        "\n",
        "# Ошибки: \"return digit, с обозначено за пределами функции,\"\n",
        "\n",
        "\"\"\"\n",
        "Ошибки (номера строк через пробел, данная строка - №2): !!!\n",
        "\"\"\"\n",
        "\n",
        "\n",
        "def sum_of_digits(n):\n",
        "    \"\"\"Вернуть сумму цифр меньших 5 для положительного целого числа `n`.\n",
        "    Если таких цифр нет, вернуть 0.\"\"\"\n",
        "    c=0\n",
        "    while n > 0:\n",
        "        digit = n % 10\n",
        "        if digit < 5:\n",
        "           c += digit\n",
        "        n //= 10\n",
        "    return c # не тот уровень был и выводилась не сумма, а число\n",
        "\n",
        "sum_of_digits(463)"
      ]
    },
    {
      "cell_type": "code",
      "source": [
        "# Программирование на языке высокого уровня (Python).\n",
        "# https://www.yuripetrov.ru/edu/python\n",
        "# Задание task_07_02_02.\n",
        "\n",
        "# Выполнил: Макарова В.С.\n",
        "# Группа: АДЭУ-211\n",
        "# E-mail: Makarova_VS@mgpu.ru\n",
        "\n",
        "# Выполнил: Сафина\n",
        "# Группа: !!!\n",
        "# E-mail: !!!\n",
        "\n",
        "\n",
        "\"\"\"\n",
        "Ошибки (номера строк через пробел, данная строка - №2): !!!\n",
        "\"\"\"\n",
        "\n",
        "\n",
        "def primes(a, b):\n",
        "    \"\"\"Вернуть список простых чисел на отрезке от 'a' до 'b'.\"\"\"\n",
        "    res = []\n",
        "    c = 0\n",
        "    for i in range(a, b+1):\n",
        "        for j in range(i+1):\n",
        "            if i %(j+1)  == 0:\n",
        "                c += 1\n",
        "            \n",
        "        if c == 2: #был неверный уровень, из-за которого в список попадали элементы, имеющие хотя бы 2 делителя\n",
        "               res.append(i)\n",
        "               c=0\n",
        "        else:\n",
        "          c=0  \n",
        "\n",
        "    return res\n",
        "primes(15,21)"
      ],
      "metadata": {
        "colab": {
          "base_uri": "https://localhost:8080/"
        },
        "id": "RkIGB_iVE-3s",
        "outputId": "399efc9a-34df-4cc3-eb90-4f116bbaaf26"
      },
      "execution_count": 2,
      "outputs": [
        {
          "output_type": "execute_result",
          "data": {
            "text/plain": [
              "[17, 19]"
            ]
          },
          "metadata": {},
          "execution_count": 2
        }
      ]
    },
    {
      "cell_type": "code",
      "source": [
        "# Программирование на языке высокого уровня (Python).\n",
        "# https://www.yuripetrov.ru/edu/python\n",
        "# Задание task_07_02_03.\n",
        "\n",
        "# Выполнил: Макарова В.С.\n",
        "# Группа: АДЭУ-211\n",
        "# E-mail: Makarova_VS@mgpu.ru\n",
        "\n",
        "\"\"\"\n",
        "Ошибки (номера строк через пробел, данная строка - №2): !!!\n",
        "\"\"\"\n",
        "\n",
        "\n",
        "def first_vacant_row(seats):\n",
        "    max_count = 0\n",
        "    max_row = 0\n",
        "    for row_index, row in enumerate(seats):\n",
        "        available_seats_count = row.count(0)  # 0 - пусто \n",
        "        if available_seats_count > max_count:\n",
        "            max_row = row_index +1\n",
        "            max_count = available_seats_count\n",
        "        else:# не хватало else и цикл из-за этого писал последний ряд , теперь мы прописали, что если количество свободных\n",
        "                                                                               # мест меньше или равно, то ряд пропускается\n",
        "          pass\n",
        "    return max_row, max_count\n",
        "\n",
        "import random\n",
        "\n",
        "random.seed(50)\n",
        "\n",
        "ROWS_MAX = 10\n",
        "SEATS_MAX = 5\n",
        "\n",
        "seats = [[random.randint(0, 1) for seat in range(SEATS_MAX)]\n",
        "                                for row in range(ROWS_MAX)]\n",
        "\n",
        "for seat in seats:\n",
        "   print(seat)\n",
        "print(first_vacant_row(seats))"
      ],
      "metadata": {
        "id": "Ofc4wPPuFTUQ"
      },
      "execution_count": null,
      "outputs": []
    },
    {
      "cell_type": "code",
      "source": [
        "# Программирование на языке высокого уровня (Python).\n",
        "# https://www.yuripetrov.ru/edu/python\n",
        "# Задание task_07_02_04.\n",
        "\n",
        "# Выполнил: Макарова В.С.\n",
        "# Группа: АДЭУ-211\n",
        "# E-mail: Makarova_VS@mgpu.ru\n",
        "\n",
        "\n",
        "\"\"\"\n",
        "Ошибки (номера строк через пробел, данная строка - №2): !!!\n",
        "\"\"\"\n",
        "\n",
        "\n",
        "def min_pair(nums):\n",
        "    \"\"\"Вернуть минимальную сумму соседних 2-х чисел в списке 'nums'.\"\"\"\n",
        "    mun = nums[0] + nums[1]\n",
        "    b=len(nums)\n",
        "    for i in range(2, b-1): #i+1 выходило за пределы списка, поэтому указала длину -1\n",
        "        mun = min(nums[i] + nums[i+1], mun)#было несколько переменных обозначенных min, переименовала\n",
        "    return mun\n",
        "import random\n",
        "\n",
        "random.seed(50)\n",
        "\n",
        "N_MAX = 10\n",
        "RANGE_MIN = 1\n",
        "RANGE_MAX = 100\n",
        "nums = random.sample(range(RANGE_MIN, RANGE_MAX), N_MAX)\n",
        "print(nums)\n",
        "print(min_pair(nums))"
      ],
      "metadata": {
        "colab": {
          "base_uri": "https://localhost:8080/"
        },
        "id": "tWxffQOXFUeK",
        "outputId": "a9580ff2-fd23-4a86-cc95-b88542c9f973"
      },
      "execution_count": 4,
      "outputs": [
        {
          "output_type": "stream",
          "name": "stdout",
          "text": [
            "[64, 35, 47, 82, 32, 89, 61, 99, 43, 11]\n",
            "54\n"
          ]
        }
      ]
    },
    {
      "cell_type": "code",
      "source": [
        "# Программирование на языке высокого уровня (Python).\n",
        "# https://www.yuripetrov.ru/edu/python\n",
        "# Задание task_07_02_05.\n",
        "\n",
        "# Выполнил: Макарова В.С.\n",
        "# Группа: АДЭУ-211\n",
        "# E-mail: Makarova_VS@mgpu.ru\n",
        "\n",
        "\"\"\"\n",
        "Ошибки (номера строк через пробел, данная строка - №2): !!!\n",
        "\"\"\"\n",
        "\n",
        "def non_negatives(nums):\n",
        "    \"\"\"Удалить из списка чисел 'nums' отрицательные элементы и вернуть\n",
        "    измененный список.\"\"\"\n",
        "    for i in range(len(nums)):#длина списка постоянно меняется из-за удаления отрицательных значений и не пересчитывается,поэтому вместо удаления присваиваем значение -1\n",
        "        if nums[i] < 0:\n",
        "            nums[i]=-1\n",
        "    num1=[]\n",
        "    for i in range(len(nums)):#когда отрицательные числа стали -1, мы проверяем все числа списка, и не равные -1 добавляем в новый список, который выводим\n",
        "      if nums[i]!=-1:\n",
        "        num1.append(nums[i])\n",
        "\n",
        "    return nums\n",
        "import random\n",
        "n = 10\n",
        "nums = [round(random.uniform(-10, 10), 2) for i in range(n)]\n",
        "print(nums)\n",
        "non_negatives(nums)\n",
        "print(nums)"
      ],
      "metadata": {
        "colab": {
          "base_uri": "https://localhost:8080/"
        },
        "id": "g4ymC8jRFef2",
        "outputId": "05c2fa16-8e1c-4bda-e933-64bd87da6cb5"
      },
      "execution_count": 9,
      "outputs": [
        {
          "output_type": "stream",
          "name": "stdout",
          "text": [
            "[-9.89, -3.25, 5.98, -1.31, 9.68, -5.98, -1.15, 8.12, 1.62, -7.47]\n",
            "[-1, -1, 5.98, -1, 9.68, -1, -1, 8.12, 1.62, -1]\n"
          ]
        }
      ]
    },
    {
      "cell_type": "code",
      "source": [
        "# Программирование на языке высокого уровня (Python).\n",
        "# https://www.yuripetrov.ru/edu/python\n",
        "# Задание task_07_02_06.\n",
        "\n",
        "# Выполнил: Макарова В.С.\n",
        "# Группа: АДЭУ-211\n",
        "# E-mail: Makarova_VS@mgpu.ru\n",
        "\n",
        "\n",
        "\"\"\"\n",
        "Ошибки (номера строк через пробел, данная строка - №2): !!!\n",
        "\"\"\"\n",
        "\n",
        "\n",
        "def unemployment_rate(unemployed, employed):\n",
        "    \"\"\"Вернуть уровень безработицы (УБ) в долях 1.\n",
        "\n",
        "       Расчет по формуле: УБ = Безработные / (Занятые + Безработные).\n",
        "    \"\"\"\n",
        "    if unemployed > 0 and employed>0:\n",
        "      return unemployed / (unemployed + employed)\n",
        "    else:\n",
        "      raise ValueError('невозможно вычислить уровень безработицы. введите положительные числа')\n",
        "\n",
        "try:\n",
        "  unemployed = int(input(\"Введите кол-во безработных (чел.): \"))#есть возможность вводить отрицательные значения\n",
        "  employed = int(input(\"Введите кол-во занятых (чел.): \"))#есть возможность вводить отрицательные значения\n",
        "  rate = unemployment_rate(unemployed, employed)\n",
        "  print(\"Уровень безработицы = {:.1%}\".format(rate))\n",
        "except ValueError as err:\n",
        "    print(\"Ошибка:\", err)\n",
        "except Exception as err:\n",
        "    print(\"Ошибка:\", err)"
      ],
      "metadata": {
        "colab": {
          "base_uri": "https://localhost:8080/"
        },
        "id": "MyFwCYixF9is",
        "outputId": "506e424e-5c4b-490b-9a32-8dbff2854b48"
      },
      "execution_count": 8,
      "outputs": [
        {
          "output_type": "stream",
          "name": "stdout",
          "text": [
            "Введите кол-во безработных (чел.): -2\n",
            "Введите кол-во занятых (чел.): 4\n",
            "Ошибка: невозможно вычислить уровень безработицы. введите положительные числа\n"
          ]
        }
      ]
    }
  ]
}