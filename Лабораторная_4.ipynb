{
  "nbformat": 4,
  "nbformat_minor": 0,
  "metadata": {
    "colab": {
      "name": "Лабораторная  4",
      "provenance": [],
      "collapsed_sections": [],
      "authorship_tag": "ABX9TyPJSgYdDfvWiKUEzrGndjF6",
      "include_colab_link": true
    },
    "kernelspec": {
      "name": "python3",
      "display_name": "Python 3"
    },
    "language_info": {
      "name": "python"
    }
  },
  "cells": [
    {
      "cell_type": "markdown",
      "metadata": {
        "id": "view-in-github",
        "colab_type": "text"
      },
      "source": [
        "<a href=\"https://colab.research.google.com/github/MakarovaVS/-/blob/main/%D0%9B%D0%B0%D0%B1%D0%BE%D1%80%D0%B0%D1%82%D0%BE%D1%80%D0%BD%D0%B0%D1%8F_4.ipynb\" target=\"_parent\"><img src=\"https://colab.research.google.com/assets/colab-badge.svg\" alt=\"Open In Colab\"/></a>"
      ]
    },
    {
      "cell_type": "markdown",
      "metadata": {
        "id": "1Pe39SVrS8-j"
      },
      "source": [
        "№ 4.2.1\n",
        "\n",
        "Определите максимальное и минимальное значения из двух различных целых чисел.\n",
        "Рассчитать значение f при заданном значении вещественного числа x:\n",
        "\n",
        "f(x)=⎧⎩⎨⎪⎪x−−√+x2,1x,при x⩾0,в противном случае.\n",
        "При выводе на экран оставьте 2 знака после запятой."
      ]
    },
    {
      "cell_type": "code",
      "metadata": {
        "colab": {
          "base_uri": "https://localhost:8080/"
        },
        "id": "NsZ0TsBFS6K8",
        "outputId": "73f54125-ed7f-4e3a-915b-dffd90834f41"
      },
      "source": [
        "# Задание task_04_02_01.\n",
        "#\n",
        "# Выполнил: Макарова В.С.\n",
        "# Группа: АДЭУ-211\n",
        "# E-mail: Makarova_VS@mgpu.ru\n",
        "\n",
        "\n",
        "x =int(input(\"x=\"))\n",
        "\n",
        "if x >= 0:\n",
        "    f= x**(1/2)+ x**2\n",
        "  \n",
        "else:\n",
        "    f = 1 / x\n",
        "\n",
        "    \n",
        "print(round(f,2))\n",
        "\n",
        "\n"
      ],
      "execution_count": null,
      "outputs": [
        {
          "output_type": "stream",
          "name": "stdout",
          "text": [
            "x=-10\n",
            "-0.1\n"
          ]
        }
      ]
    },
    {
      "cell_type": "markdown",
      "metadata": {
        "id": "FYTKtQobROUk"
      },
      "source": [
        "№ 4.2.2\n",
        "\n",
        "Определите максимальное и минимальное значения из двух различных целых чисел.\n",
        "\n"
      ]
    },
    {
      "cell_type": "code",
      "metadata": {
        "colab": {
          "base_uri": "https://localhost:8080/"
        },
        "id": "Tze6HAMqRSIH",
        "outputId": "86b1ea82-e362-4cc2-e0b7-ea4dd16fb18d"
      },
      "source": [
        "# Задание task_04_02_02.\n",
        "#\n",
        "\n",
        "# Выполнил: Макарова В.С.\n",
        "# Группа: АДЭУ-211\n",
        "# E-mail: Makarova_VS@mgpu.ru\n",
        "\n",
        "\n",
        "a1 =input(\"Введите число: \")\n",
        "a2 =input(\"Введите число: \")\n",
        "\n",
        "\n",
        "if a1>a2:\n",
        "  print(\"Максимум:\"+ a1)\n",
        "  print(\"Минимум:\"+ a2)\n",
        "  \n",
        "elif a2>a1 :\n",
        "  print(\"Максимум:\"+ a2)\n",
        "  print(\"Минимум:\"+ a1)\n",
        " \n",
        "\n",
        "\n",
        "\n",
        "\n",
        "\n",
        "\n",
        "\n",
        "# Удалите комментарий и допишите код\n",
        "\n",
        "# --------------\n",
        "# Пример вывода:\n",
        "#\n",
        "# Введите первое число: 1\n",
        "# Введите второе число: 2\n",
        "# Максимум: 2, минимум: 1\n",
        "\n",
        "# Введите первое число: 5\n",
        "# Введите второе число: 5\n",
        "# Максимум: 5, минимум: 5\n"
      ],
      "execution_count": null,
      "outputs": [
        {
          "output_type": "stream",
          "name": "stdout",
          "text": [
            "Введите число: 5\n",
            "Введите число: 9\n",
            "Максимум:9\n",
            "Минимум:5\n"
          ]
        }
      ]
    },
    {
      "cell_type": "markdown",
      "metadata": {
        "id": "pF995hGYXjqu"
      },
      "source": [
        "№ 4.2.3\n",
        "\n",
        "Вася пытается высунуть голову в форточку размерами a и b см. Приняв условно, что его голова - круглая диаметром d см, определите, сможет ли Вася сделать это. Для прохождения головы в форточку необходим зазор в 1 см. с каждой стороны.\n",
        "\n",
        "Все величины - целые числа."
      ]
    },
    {
      "cell_type": "code",
      "metadata": {
        "colab": {
          "base_uri": "https://localhost:8080/"
        },
        "id": "ge2SZ2klXiw1",
        "outputId": "e74dd841-647c-4a36-c383-7228ec0931f0"
      },
      "source": [
        "# Задание task_04_02_03.\n",
        "#\n",
        "# Выполнил: Макарова В.С.\n",
        "# Группа: АДЭУ-211\n",
        "# E-mail: Makarova_VS@mgpu.ru\n",
        "\n",
        "\n",
        "\n",
        "a =int(input(\"Введите высоту форточки: \"))\n",
        "b =int(input(\"Введите ширину форточки: \"))\n",
        "d =int(input(\"Введите диаметр головы: \"))\n",
        "\n",
        "\n",
        "\n",
        "# Введенные числа должны быть положительными, если так - осуществляем\n",
        "# расчет, иначе выводим \"Проверьте ввод\"\n",
        "if a>0 and b>0 and d>0:\n",
        " fix=1 #зазор\n",
        " if d<a and d<b:\n",
        "  print('Да')\n",
        "else:\n",
        "  print('Нет')\n",
        "\n",
        "  print('Проверьте ввод')\n",
        "\n",
        "# --------------\n",
        "# Пример вывода:\n",
        "#\n",
        "# Ширина форточки: 5\n",
        "# Высота форточки: 6\n",
        "# Диаметр головы: 6\n",
        "# Нет\n",
        "\n",
        "# Ширина форточки: 6\n",
        "# Высота форточки: 7\n",
        "# Диаметр головы: 4\n",
        "# Да\n",
        "\n",
        "    \n",
        "\n",
        "# --------------\n",
        "# Пример вывода:\n",
        "#\n",
        "# Ширина форточки: 5\n",
        "# Высота форточки: 6\n",
        "# Диаметр головы: 6\n",
        "# Нет\n",
        "\n",
        "# Ширина форточки: 6\n",
        "# Высота форточки: 7\n",
        "# Диаметр головы: 4\n",
        "# Да\n"
      ],
      "execution_count": null,
      "outputs": [
        {
          "output_type": "stream",
          "name": "stdout",
          "text": [
            "Введите высоту форточки: 7\n",
            "Введите ширину форточки: 6\n",
            "Введите диаметр головы: 4\n",
            "Да\n"
          ]
        }
      ]
    },
    {
      "cell_type": "markdown",
      "metadata": {
        "id": "p86f4VoObuWz"
      },
      "source": [
        "№ 4.2.4\n",
        "\n",
        "Известны год и номер месяца сегодняшнего дня, а также год и номер месяца рождения человека (нумерация месяцев с 1: январь - 1 и т.д.). Определите возраст человека (число полных лет)."
      ]
    },
    {
      "cell_type": "code",
      "metadata": {
        "colab": {
          "base_uri": "https://localhost:8080/"
        },
        "id": "mUBeRyk_bvRt",
        "outputId": "3eba6705-5583-482f-ed73-70de738dc428"
      },
      "source": [
        "# Задание task_04_02_04.\n",
        "#\n",
        "# Выполнил: Макарова В.С.\n",
        "# Группа: АДЭУ-211\n",
        "# E-mail: Makarova_VS@mgpu.ru\n",
        "\n",
        "\n",
        "year_today =input(\"Введите текущий год: \")\n",
        "month_today =input(\"Введите текущий месяц: \")\n",
        "\n",
        "year =input(\"Введите год рождения: \")\n",
        "month =input(\"Введите месяц рождения: \")\n",
        "\n",
        "age=int(year_today)- int(year)\n",
        "\n",
        "print(\"Число полных лет: \", age)\n",
        "\n",
        "# --------------\n",
        "# Пример вывода:\n",
        "#\n",
        "# Введите текущий год: 2017\n",
        "# Введите текущий месяц: 5\n",
        "# Введите год рождения: 2000\n",
        "# Введите месяц рождения: 1\n",
        "# Число полных лет:  17\n"
      ],
      "execution_count": null,
      "outputs": [
        {
          "output_type": "stream",
          "name": "stdout",
          "text": [
            "Введите текущий год: 2017\n",
            "Введите текущий месяц: 5\n",
            "Введите год рождения: 2000\n",
            "Введите месяц рождения: 1\n",
            "Число полных лет:  17\n"
          ]
        }
      ]
    },
    {
      "cell_type": "markdown",
      "metadata": {
        "id": "gW5sOTpXeBmm"
      },
      "source": [
        "№ 4.2.5\n",
        "\n",
        "Дана точка с целыми ненулевыми координатами (x;y). Определить номер четверти координатной плоскости, которой она принадлежит."
      ]
    },
    {
      "cell_type": "code",
      "metadata": {
        "colab": {
          "base_uri": "https://localhost:8080/"
        },
        "id": "0YeVW0CheBN8",
        "outputId": "d4db02fa-6b28-4147-f79e-784f1a2da824"
      },
      "source": [
        "# Задание task_04_02_05.\n",
        "#\n",
        "# Выполнил: Макарова В.С.\n",
        "# Группа: АДЭУ-211\n",
        "# E-mail: Makarova_VS@mgpu.ru\n",
        "\n",
        "\n",
        "x =int(input(\"Введите число: \"))\n",
        "y =int(input(\"Введите число: \"))\n",
        "\n",
        "if x>0 and y>0:\n",
        "    print(\"1-я четверть\")\n",
        "\n",
        "elif x<0 and y<0:\n",
        "    print(\"3-я четверть\")\n",
        "\n",
        "elif x>0 and y<0:\n",
        "    print(\"4-я четверть\")\n",
        "    \n",
        "elif x<0 and y>0:\n",
        "    print(\"2-я четверть\")\n",
        "\n",
        "\n",
        "# Удалите комментарий и допишите код\n",
        "\n",
        "# --------------\n",
        "# Пример вывода:\n",
        "#\n",
        "# Введите координату x: 5\n",
        "# Введите координату y: 7\n",
        "# 1-я четверть\n"
      ],
      "execution_count": null,
      "outputs": [
        {
          "output_type": "stream",
          "name": "stdout",
          "text": [
            "Введите число: 5\n",
            "Введите число: 7\n",
            "1-я четверть\n"
          ]
        }
      ]
    },
    {
      "cell_type": "markdown",
      "metadata": {
        "id": "o8OhBP_MgcAL"
      },
      "source": [
        "№ 4.2.6\n",
        "\n",
        "Даны вещественные числа a, b, c (a≠0).\n",
        "\n",
        "Решите уравнение ax2+bx+c=0. При выводе значений оставьте 1 знак после запятой."
      ]
    },
    {
      "cell_type": "code",
      "metadata": {
        "colab": {
          "base_uri": "https://localhost:8080/"
        },
        "id": "hP46PWwUgcYJ",
        "outputId": "47ab8599-0a47-41d6-c759-dfe07152b138"
      },
      "source": [
        "# Задание task_04_02_06.\n",
        "#\n",
        "# Выполнил: Макарова В.С.\n",
        "# Группа: АДЭУ-211\n",
        "# E-mail: Makarova_VS@mgpu.ru\n",
        "\n",
        "a =int(input(\"Введите число: \"))\n",
        "b =int(input(\"Введите число: \"))\n",
        "c =int(input(\"Введите число: \"))\n",
        "\n",
        "discr=b**2-4*a*c\n",
        "\n",
        "if discr<0:\n",
        "  print(\"Решений нет\")\n",
        "\n",
        "elif discr==0:\n",
        "  x1=-b-discr**(1/2)/2*a\n",
        "  print(round(x1,1))\n",
        "\n",
        "elif discr>0:\n",
        "  x2=-b+discr**(1/2)/2*a\n",
        "  x3=-b-discr**(1/2)/2*a\n",
        "  \n",
        "  print(round (x2,1)) \n",
        "  print(round (x3,1))\n",
        "  \n",
        "\n",
        "# --------------\n",
        "# Пример вывода:\n",
        "#\n",
        "# a = 1\n",
        "# b = 2\n",
        "# c = 3\n",
        "# Решений нет\n"
      ],
      "execution_count": null,
      "outputs": [
        {
          "output_type": "stream",
          "name": "stdout",
          "text": [
            "Введите число: 1\n",
            "Введите число: 2\n",
            "Введите число: 3\n",
            "Решений нет\n"
          ]
        }
      ]
    },
    {
      "cell_type": "markdown",
      "metadata": {
        "id": "a9HKcRSyASiE"
      },
      "source": [
        "№ 4.2.7\n",
        "\n",
        "Дана непустая последовательность целых чисел, оканчивающаяся нулем. Найти сумму и количество введенных чисел."
      ]
    },
    {
      "cell_type": "code",
      "metadata": {
        "colab": {
          "base_uri": "https://localhost:8080/"
        },
        "id": "IQDsMEOCAPz_",
        "outputId": "7988591b-19d5-406c-86ec-ea6eb28d5c73"
      },
      "source": [
        "# Задание task_04_02_07.\n",
        "#\n",
        "# Выполнил: Макарова В.С.\n",
        "# Группа: АДЭУ-211\n",
        "# E-mail: Makarova_VS@mgpu.ru\n",
        "\n",
        "\n",
        "nums_sum = 0  # сумма\n",
        "nums_count = 0  # количество\n",
        "y=1\n",
        "\n",
        "x = int(input(\"Введите 1-ое число\"))\n",
        "nums_sum=nums_sum+x\n",
        "while x != 0:\n",
        "    y=y+1\n",
        "    x= int(input(\"Введите {0}-e число: \".format(y)))\n",
        "    nums_count=nums_count + 1\n",
        "    nums_sum= nums_sum + x\n",
        "else:\n",
        "      print(\"Сумма=\",nums_sum)\n",
        "print(\"Колличество\", nums_count)\n",
        "# Удалите комментарий и допишите код\n",
        "\n",
        "# --------------\n",
        "# Пример вывода:\n",
        "#\n",
        "# Введите 1-е число: 1\n",
        "# Введите 2-е число: 2\n",
        "# Введите 3-е число: 3\n",
        "# Введите 4-е число: 4\n",
        "# Введите 5-е число: 0\n",
        "# Сумма = 10\n",
        "# Количество = 4\n",
        "#\n",
        "# Введите 1-е число: 0\n",
        "# Сумма = 0\n",
        "# Количество = 0\n"
      ],
      "execution_count": null,
      "outputs": [
        {
          "output_type": "stream",
          "name": "stdout",
          "text": [
            "Введите 1-ое число0\n",
            "Сумма= 0\n",
            "Колличество 0\n"
          ]
        }
      ]
    },
    {
      "cell_type": "markdown",
      "metadata": {
        "id": "OkqkrADr5sx9"
      },
      "source": [
        "№ 4.2.8\n",
        "\n",
        "Дано число n. Из чисел 0,5,10,15,20,25,... напечатать те, которые не превышают n."
      ]
    },
    {
      "cell_type": "code",
      "metadata": {
        "colab": {
          "base_uri": "https://localhost:8080/"
        },
        "id": "nAeNNLWu5tM3",
        "outputId": "7a2cd8d1-6317-49cb-a8a9-d2a04cf46412"
      },
      "source": [
        "# Задание task_04_02_08.\n",
        "#\n",
        "# Выполнил: Макарова В.С.\n",
        "# Группа: АДЭУ-211\n",
        "# E-mail: Makarova_VS@mgpu.ru\n",
        "\n",
        "\n",
        "n = int(input(\"n: \"))\n",
        "i = 0\n",
        "\n",
        "while True:\n",
        "    if i > n:\n",
        "        break\n",
        "    elif i <= n and (i % 5 == 0):\n",
        "        print(i)\n",
        "    i += 1\n",
        "\n",
        "\n",
        "# --------------\n",
        "# Пример вывода:\n",
        "#\n",
        "# n = 0\n",
        "# 0\n",
        "#\n",
        "# n = 10\n",
        "# 0\n",
        "# 5\n",
        "# 10\n",
        "#\n",
        "# n = 12\n",
        "# 0\n",
        "# 5\n",
        "# 10\n"
      ],
      "execution_count": null,
      "outputs": [
        {
          "output_type": "stream",
          "name": "stdout",
          "text": [
            "n: 10\n",
            "0\n",
            "5\n",
            "10\n"
          ]
        }
      ]
    },
    {
      "cell_type": "markdown",
      "metadata": {
        "id": "NGHXFaM855Tp"
      },
      "source": [
        "№ 4.2.9\n",
        "\n",
        "Дано вещественное число a. Найдите наименьшее натуральное n, для которого верно\n",
        "\n",
        "1+12+13+...+1n>a"
      ]
    },
    {
      "cell_type": "code",
      "metadata": {
        "colab": {
          "base_uri": "https://localhost:8080/",
          "height": 128
        },
        "id": "3DsjkneLaJ3_",
        "outputId": "f201ab4b-ef0d-428f-8c01-1d4e30622117"
      },
      "source": [
        "# Задание task_04_02_09.\n",
        "#\n",
        "# Выполнил: Макарова В.С.\n",
        "# Группа: АДЭУ-211\n",
        "# E-mail: Makarova_VS@mgpu.ru\n",
        "\n",
        "a = float(input(\"a: \"))\n",
        "\n",
        "n = 0\n",
        "\n",
        "x_sum = 0\n",
        "\n",
        "while x_sum <= a:\n",
        "    n += 1\n",
        "    x_sum += 1 / n\n",
        "\n",
        "print(f\"{n=}\")\n",
        "print(f\"{x_sum=}\")\n",
        "\n",
        "\n",
        "# --------------\n",
        "# Пример вывода:\n",
        "#\n",
        "# a = 1.5\n",
        "# n = 3\n",
        "#\n",
        "# a = 2\n",
        "# n = 4\n"
      ],
      "execution_count": null,
      "outputs": [
        {
          "output_type": "error",
          "ename": "SyntaxError",
          "evalue": "ignored",
          "traceback": [
            "\u001b[0;36m  File \u001b[0;32m\"<fstring>\"\u001b[0;36m, line \u001b[0;32m1\u001b[0m\n\u001b[0;31m    (n=)\u001b[0m\n\u001b[0m      ^\u001b[0m\n\u001b[0;31mSyntaxError\u001b[0m\u001b[0;31m:\u001b[0m invalid syntax\n"
          ]
        }
      ]
    },
    {
      "cell_type": "markdown",
      "metadata": {
        "id": "GhDxCUTG6OFz"
      },
      "source": [
        "№ 4.2.10\n",
        "\n",
        "Дано натуральное число. Определите сумму и количество его цифр."
      ]
    },
    {
      "cell_type": "code",
      "metadata": {
        "colab": {
          "base_uri": "https://localhost:8080/"
        },
        "id": "34XkeJVn6OoG",
        "outputId": "325fc685-1097-4399-a901-bb97a185ae6a"
      },
      "source": [
        "# Задание task_04_02_10.\n",
        "#\n",
        "# Выполнил: Макарова В.С.\n",
        "# Группа: АДЭУ-211\n",
        "# E-mail: Makarova_VS@mgpu.ru\n",
        "\n",
        "\n",
        "n = int(input(\"n: \"))\n",
        "\n",
        "n_sum = 0\n",
        "n_count = 0\n",
        "\n",
        "n_slice = 0\n",
        "while n_slice != n:  # 1234\n",
        "    n_slice = n % 10**(n_count + 1)\n",
        "    digit = (n_slice - n % 10**n_count) / 10**n_count\n",
        "    n_sum += int(digit)\n",
        "    n_count += 1\n",
        "\n",
        "print(f\"Сумма: {n_sum}\")\n",
        "print(f\"Кол-во: {n_count}\")\n",
        "\n",
        "\n",
        "# --------------\n",
        "# Пример вывода:\n",
        "#\n",
        "# n = 12345\n",
        "# Сумма = 15\n",
        "# Количество = 5\n"
      ],
      "execution_count": null,
      "outputs": [
        {
          "output_type": "stream",
          "name": "stdout",
          "text": [
            "n: 12345\n",
            "Сумма: 15\n",
            "Кол-во: 5\n"
          ]
        }
      ]
    },
    {
      "cell_type": "markdown",
      "metadata": {
        "id": "3UCG05p-6kjl"
      },
      "source": [
        "№ 4.2.11\n",
        "\n",
        "Вывести в строку 10 первых натуральных чисел, оканчивающихся на цифру k, кратных числу s и находящихся в интервале, левая граница которого равна start."
      ]
    },
    {
      "cell_type": "code",
      "metadata": {
        "colab": {
          "base_uri": "https://localhost:8080/"
        },
        "id": "NBjVXn1M6bM4",
        "outputId": "7e9b6fa9-b689-4cf4-8408-59ac9edeb633"
      },
      "source": [
        "# Задание task_04_02_11.\n",
        "#\n",
        "# Выполнил: Макарова В.С.\n",
        "# Группа: АДЭУ-211\n",
        "# E-mail: Makarova_VS@mgpu.ru\n",
        "\n",
        "\n",
        "k = int(input(\"k: \"))\n",
        "s = int(input(\"s: \"))\n",
        "start = int(input(\"start: \"))\n",
        "\n",
        "n_count = 10\n",
        "\n",
        "n = 0\n",
        "while True:\n",
        "    if n >= n_count:\n",
        "        break\n",
        "\n",
        "    if (start % 10 == k) and (start % s == 0):\n",
        "        print(start)\n",
        "        n += 1\n",
        "\n",
        "    start += 1\n",
        "\n",
        "# --------------\n",
        "# Пример вывода:\n",
        "#\n",
        "# start = 100\n",
        "# k = 7\n",
        "# s = 9\n",
        "# 117 207 297 387 477 567 657 747 837 927\n"
      ],
      "execution_count": null,
      "outputs": [
        {
          "output_type": "stream",
          "name": "stdout",
          "text": [
            "k: 7\n",
            "s: 9\n",
            "start: 100\n",
            "117\n",
            "207\n",
            "297\n",
            "387\n",
            "477\n",
            "567\n",
            "657\n",
            "747\n",
            "837\n",
            "927\n"
          ]
        }
      ]
    },
    {
      "cell_type": "markdown",
      "metadata": {
        "id": "CZEPpaLapfJg"
      },
      "source": [
        "№ 4.2.12\n",
        "\n",
        "Даны целые числа a и b (a может быть больше b). Напечатайте:\n",
        "\n",
        "числа от минимального до максимального в строчку (разделяя пробелом);\n",
        "\n",
        "числа от максимального до минимального «столбиком»."
      ]
    },
    {
      "cell_type": "code",
      "metadata": {
        "colab": {
          "base_uri": "https://localhost:8080/"
        },
        "id": "vukiXhT5pflV",
        "outputId": "c5332192-0834-42fe-8708-14babb651686"
      },
      "source": [
        "# Задание task_04_02_12.\n",
        "#\n",
        "# Выполнил: Макарова В.С.\n",
        "# Группа: АДЭУ-211\n",
        "# E-mail: Makarova_VS@mgpu.ru\n",
        "\n",
        "\n",
        "\n",
        "    \n",
        "a=int(input(\"число: \"))\n",
        "b =int(input(\"число: \"))\n",
        "\n",
        "mn=min(a,b)\n",
        "mx=max(a,b)\n",
        "\n",
        "for i in range(mn,mx+1):\n",
        "    print(i, end=\" \")\n",
        "\n",
        "for j in range(mx,mn-1,-1):\n",
        "    print(j)\n",
        "    \n",
        "    \n",
        "    \n",
        "\n",
        "# --------------\n",
        "# Пример вывода:\n",
        "#\n",
        "# a = 1\n",
        "# b = 5\n",
        "# 1 2 3 4 5\n",
        "# 5\n",
        "# 4\n",
        "# 3\n",
        "# 2\n",
        "#\n"
      ],
      "execution_count": null,
      "outputs": [
        {
          "output_type": "stream",
          "name": "stdout",
          "text": [
            "число: 1\n",
            "число: 5\n",
            "1 2 3 4 5 5\n",
            "4\n",
            "3\n",
            "2\n",
            "1\n"
          ]
        }
      ]
    },
    {
      "cell_type": "markdown",
      "metadata": {
        "id": "NsH60LC6Wbh-"
      },
      "source": [
        "№ 4.2.13\n",
        "\n",
        "Для введенных с клавиатуры положительных целых чисел a и b (a≤b) определите:\n",
        "\n",
        "сумму всех целых чисел от a до b;\n",
        "\n",
        "произведение всех целых чисел от a до b;\n",
        "\n",
        "среднее арифметическое всех целых чисел от a до b;\n",
        "\n",
        "среднее геометрическое нечетных чисел от a до b.\n",
        "\n"
      ]
    },
    {
      "cell_type": "code",
      "metadata": {
        "id": "7Or8akXJWeqQ"
      },
      "source": [
        "# Задание task_04_02_13.\n",
        "#\n",
        "# Выполнил: Макарова В.С.\n",
        "# Группа: АДЭУ-211\n",
        "# E-mail: Makarova_VS@mgpu.ru\n",
        "\n",
        "\n",
        "\n",
        "\n",
        "\n",
        "\n",
        "a = int(input(\"a: \"))\n",
        "b = int(input(\"b: \"))\n",
        "\n",
        "n_sum = 0\n",
        "n_mult = 1\n",
        "\n",
        "n_uneven_count = 0\n",
        "n_uneven_mult = 1\n",
        "\n",
        "for i in range(a, b + 1):\n",
        "\n",
        "    n_sum += i\n",
        "    n_mult *= i\n",
        "\n",
        "    if i % 2 != 0:\n",
        "        n_uneven_mult *= i\n",
        "        n_uneven_count += 1\n",
        "\n",
        "\n",
        "n_count = b - a + 1\n",
        "n_avg = n_sum / n_count\n",
        "n_uneven_avg_geom = n_uneven_mult ** (1 / n_uneven_count)\n",
        "\n",
        "\n",
        "print(\"Сумма =\", n_sum)\n",
        "print(\"Произведение =\", n_mult)\n",
        "print(\"Среднее арифметическое = {:.2f}\".format(n_avg))\n",
        "print(\"Среднее геометрическое нечетных чисел = {:.2f}\".format(n_uneven_avg_geom))\n",
        "\n",
        "\n",
        "\n",
        "# Пример вывода:\n",
        "#\n",
        "# a = 1\n",
        "# b = 5\n",
        "# Сумма = 15\n",
        "# Произведение = 120\n",
        "# Среднее арифметическое = 3.00\n",
        "# Среднее геометрическое нечетных чисел = 2.47\n"
      ],
      "execution_count": null,
      "outputs": []
    },
    {
      "cell_type": "markdown",
      "metadata": {
        "id": "3UQlTwZKWsrk"
      },
      "source": [
        "№ 4.2.14\n",
        "\n",
        "Начав тренировки, лыжник в первый день пробежал s км. (s>0, вещественное число). Каждый следующий день он увеличивал пробег на p % (0<p≤100, вещественное число) от пробега предыдущего дня. Определите:\n",
        "\n",
        "пробег лыжника за второй, третий, …, десятый день тренировок;\n",
        "\n",
        "какой суммарный путь он пробежал за первые 10 дней тренировок.\n",
        "\n",
        "При выводе вещественных результатов оставьте один знак после запятой."
      ]
    },
    {
      "cell_type": "code",
      "metadata": {
        "id": "UJDzLv5LWsNC",
        "colab": {
          "base_uri": "https://localhost:8080/"
        },
        "outputId": "7953830b-e8d0-4037-a03d-bb8d69741f6b"
      },
      "source": [
        "# Задание task_04_02_14.\n",
        "#\n",
        "# Выполнил: Макарова В.С.\n",
        "# Группа: АДЭУ-211\n",
        "# E-mail: Makarova_VS@mgpu.ru\n",
        "\n",
        "\n",
        "s = float(input(\"Пробег за 1-й день (км.) = \"))\n",
        "p = float(input(\"На сколько увеличивает пробег (%) = \"))\n",
        "\n",
        "days_count = 10\n",
        "total = s\n",
        "\n",
        "for i in range(days_count - 1):\n",
        "    s += s * (p / 100)\n",
        "    print(f\"Пробег за {i + 2}-й день: {s:.1f}\")\n",
        "    total += s\n",
        "\n",
        "print(f\"Суммарный пробег: {total:.1f} км.\")\n",
        "\n",
        "\n",
        "# --------------\n",
        "# Пример вывода:\n",
        "#\n",
        "# Пробег за 1-й день (км.) = 5\n",
        "# На сколько увеличивает пробег (%) = 10\n",
        "# Пробег за 2-й день: 5.5 км.\n",
        "# Пробег за 3-й день: 6.1 км.\n",
        "# Пробег за 4-й день: 6.7 км.\n",
        "# Пробег за 5-й день: 7.3 км.\n",
        "# Пробег за 6-й день: 8.1 км.\n",
        "# Пробег за 7-й день: 8.9 км.\n",
        "# Пробег за 8-й день: 9.7 км.\n",
        "# Пробег за 9-й день: 10.7 км.\n",
        "# Пробег за 10-й день: 11.8 км.\n",
        "# Суммарный пробег: 79.7 км.\n"
      ],
      "execution_count": null,
      "outputs": [
        {
          "output_type": "stream",
          "name": "stdout",
          "text": [
            "Пробег за 1-й день (км.) = 5\n",
            "На сколько увеличивает пробег (%) = 10\n",
            "Пробег за 2-й день: 5.5\n",
            "Пробег за 3-й день: 6.0\n",
            "Пробег за 4-й день: 6.7\n",
            "Пробег за 5-й день: 7.3\n",
            "Пробег за 6-й день: 8.1\n",
            "Пробег за 7-й день: 8.9\n",
            "Пробег за 8-й день: 9.7\n",
            "Пробег за 9-й день: 10.7\n",
            "Пробег за 10-й день: 11.8\n",
            "Суммарный пробег: 79.7 км.\n"
          ]
        }
      ]
    },
    {
      "cell_type": "markdown",
      "metadata": {
        "id": "yWI5JlKfW0dQ"
      },
      "source": [
        "№ 4.2.15\n",
        "\n",
        "Известна масса каждого предмета в кг., загружаемого в грузовик. Определить, возможна ли перевозка груза, если грузоподъемность грузовика равна p кг."
      ]
    },
    {
      "cell_type": "code",
      "metadata": {
        "id": "QXIyf7l6W0zZ",
        "colab": {
          "base_uri": "https://localhost:8080/"
        },
        "outputId": "0f8d9cb8-c3da-4c72-946d-b992af33b342"
      },
      "source": [
        "# Задание task_04_02_15.\n",
        "#\n",
        "# Выполнил: Макарова В.С.\n",
        "# Группа: АДЭУ-211\n",
        "# E-mail: Makarova_VS@mgpu.ru\n",
        "\n",
        "p = int(input(\"Грузоподьёмность: \"))\n",
        "n = int(input(\"Кол-во грузов: \"))\n",
        "\n",
        "total = 0\n",
        "\n",
        "for i in range(n):\n",
        "    w = int(input(f\"Вес предмета №{i + 1}: \"))\n",
        "    total += w\n",
        "\n",
        "if total <= p:\n",
        "    print(\"Да,перевозка возможна\")\n",
        "else:\n",
        "    print(\"Нет,перевозка невозможна\")\n",
        "\n",
        "\n",
        "\n",
        "\n",
        "# Пример вывода:\n",
        "#\n",
        "# Грузоподъемность грузовика (кг.) = 10\n",
        "# Количество предметов = 2\n",
        "# Масса 1-го предмета (кг.) = 3\n",
        "# Масса 2-го предмета (кг.) = 3\n",
        "# Да\n"
      ],
      "execution_count": null,
      "outputs": [
        {
          "output_type": "stream",
          "name": "stdout",
          "text": [
            "Грузоподьёмность: 10\n",
            "Кол-во грузов: 2\n",
            "Вес предмета №1: 3\n",
            "Вес предмета №2: 3\n",
            "Да,перевозка возможна\n"
          ]
        }
      ]
    },
    {
      "cell_type": "markdown",
      "metadata": {
        "id": "9xVA67lMW1fJ"
      },
      "source": [
        "№ 4.2.16\n",
        "\n",
        "В области несколько районов. Заданы площади, засеваемые пшеницей (га.), и средняя урожайность (ц/га) в каждом районе.\n",
        "\n",
        "Определите количество пшеницы, собранное по области. При выводе вещественных результатов оставьте один знак после запятой."
      ]
    },
    {
      "cell_type": "code",
      "metadata": {
        "id": "tSUTD5AFW2FK",
        "colab": {
          "base_uri": "https://localhost:8080/"
        },
        "outputId": "b1d8c9a8-c47f-4e52-e8cb-8cf37be678ac"
      },
      "source": [
        "# Задание task_04_02_16.\n",
        "#\n",
        "# Выполнил: Макарова В.С.\n",
        "# Группа: АДЭУ-211\n",
        "# E-mail: Makarova_VS@mgpu.ru\n",
        "\n",
        "\n",
        "n = int(input(\"Количество районов: \"))\n",
        "\n",
        "total = 0\n",
        "\n",
        "for i in range(n):\n",
        "    area = int(input(f\"Площадь района (га) [{i+1}]: \"))\n",
        "    rate = int(input(f\"Урожайность в районе (ц/га.) [{i+1}]: \"))\n",
        "    total += area * rate\n",
        "\n",
        "print(f\"Собрано пшеницы: {total:.1f} ц.\")\n",
        "\n",
        "\n",
        "# --------------\n",
        "# Пример вывода:\n",
        "#\n",
        "# Количество районов = 3\n",
        "# Площадь 1-го района (га) = 4\n",
        "# Урожайность в 1-м районе (ц/га.) = 2\n",
        "# Площадь 2-го района (га) = 7\n",
        "# Урожайность в 2-м районе (ц/га.) = 3\n",
        "# Площадь 3-го района (га) = 9\n",
        "# Урожайность в 3-м районе (ц/га.) = 4\n",
        "# Собрано пшеницы: 65.0 ц.\n"
      ],
      "execution_count": null,
      "outputs": [
        {
          "output_type": "stream",
          "name": "stdout",
          "text": [
            "Количество районов: 3\n",
            "Площадь района (га) [1]: 4\n",
            "Урожайность в районе (ц/га.) [1]: 2\n",
            "Площадь района (га) [2]: 7\n",
            "Урожайность в районе (ц/га.) [2]: 3\n",
            "Площадь района (га) [3]: 9\n",
            "Урожайность в районе (ц/га.) [3]: 4\n",
            "Собрано пшеницы: 65.0 ц.\n"
          ]
        }
      ]
    },
    {
      "cell_type": "markdown",
      "metadata": {
        "id": "qE1moRtzXGqG"
      },
      "source": [
        "№ 4.2.17\n",
        "\n",
        "Решите задачу № 4.2.7, организовав бесконечный цикл, который бы прерывался при выполнении условия, используя оператор break.\n",
        "\n"
      ]
    },
    {
      "cell_type": "code",
      "metadata": {
        "id": "3iyOkaSnXGVq",
        "colab": {
          "base_uri": "https://localhost:8080/"
        },
        "outputId": "84bd39ee-8474-4a1e-b629-24961bca7bce"
      },
      "source": [
        "# Задание task_04_02_17.\n",
        "#\n",
        "# Выполнил: Макарова В.С.\n",
        "# Группа: АДЭУ-211\n",
        "# E-mail: Makarova_VS@mgpu.ru\n",
        "\n",
        "nums_sum = 0\n",
        "nums_count = 0\n",
        "\n",
        "while True:\n",
        "    n = int(input(f\"Введите число [{nums_count + 1}]: \"))\n",
        "    nums_sum += n\n",
        "    nums_count += 1\n",
        "    if n == 0:\n",
        "        break\n",
        "\n",
        "print(f\"Сумма: {nums_sum}\")\n",
        "print(f\"Кол-во: {nums_count}\")\n",
        "\n",
        "\n",
        "\n",
        "# --------------\n",
        "# Пример вывода:\n",
        "#\n",
        "# Введите 1-е число: 1\n",
        "# Введите 2-е число: 2\n",
        "# Введите 3-е число: 3\n",
        "# Введите 4-е число: 4\n",
        "# Введите 5-е число: 0\n",
        "# Сумма = 10\n",
        "# Количество = 4\n",
        "#\n",
        "# Введите 1-е число: 0\n",
        "# Сумма = 0\n",
        "# Количество = 0\n"
      ],
      "execution_count": null,
      "outputs": [
        {
          "output_type": "stream",
          "name": "stdout",
          "text": [
            "Введите число [1]: 0\n",
            "Сумма: 0\n",
            "Кол-во: 1\n"
          ]
        }
      ]
    },
    {
      "cell_type": "markdown",
      "metadata": {
        "id": "nkO_klOkXJGg"
      },
      "source": [
        "\n",
        "№ 4.2.18\n",
        "\n",
        "Предложение, введенное с клавиатуры, содержит слова из гласных и согласных букв кириллицы (регистр может быть различный), а также пробелы.\n",
        "\n",
        "Определите количество гласных и согласных букв в предложении. Для пропуска пробелов используйте оператор continue."
      ]
    },
    {
      "cell_type": "code",
      "metadata": {
        "id": "L1smd3-zXJxq",
        "colab": {
          "base_uri": "https://localhost:8080/"
        },
        "outputId": "841ed106-4e73-41db-8794-45dfdfe80630"
      },
      "source": [
        "# Задание task_04_02_18.\n",
        "#\n",
        "# Выполнил: Макарова В.С.\n",
        "# Группа: АДЭУ-211\n",
        "# E-mail: Makarova_VS@mgpu.ru\n",
        "\n",
        "sentence = input(\"Предложение: \")\n",
        "sentence = sentence.lower()\n",
        "\n",
        "\n",
        "count_gl = 0\n",
        "count_sogl = 0\n",
        "\n",
        "\n",
        "for char in sentence:    # тип данных, служащий для хранения одиночных символов в различных кодировках\n",
        "    if char in \"ауоыиэяюёе\":\n",
        "        count_gl += 1\n",
        "    elif char in \"бвгджзйклмнпрстфхцчшщ\":\n",
        "        count_sogl += 1\n",
        "\n",
        "\n",
        "print(f\"Гласные: {count_gl}\")\n",
        "print(f\"Согласные: {count_sogl}\")\n",
        "\n",
        "\n",
        "# --------------\n",
        "# Пример вывода:\n",
        "#\n",
        "# Введите предложение: Программирование\n",
        "# Кол-во букв в предложении: гласных - 7, согласных - 9\n"
      ],
      "execution_count": null,
      "outputs": [
        {
          "output_type": "stream",
          "name": "stdout",
          "text": [
            "Предложение: Программирование\n",
            "Гласные: 7\n",
            "Согласные: 9\n"
          ]
        }
      ]
    },
    {
      "cell_type": "markdown",
      "metadata": {
        "id": "c2ajSQgkXZkw"
      },
      "source": [
        "№ 4.2.19\n",
        "\n",
        "Выведите на экран (в строку) все целые числа от a до b, кратные некоторому числу c."
      ]
    },
    {
      "cell_type": "code",
      "metadata": {
        "id": "bxzjKPplXZ3R",
        "colab": {
          "base_uri": "https://localhost:8080/"
        },
        "outputId": "772f97d6-d839-43e9-8b7f-382a498ba965"
      },
      "source": [
        "# Задание task_04_02_19.\n",
        "#\n",
        "# Выполнил: Макарова В.С.\n",
        "# Группа: АДЭУ-211\n",
        "# E-mail: Makarova_VS@mgpu.ru\n",
        "\n",
        "\n",
        "a = int(input(\"a: \"))\n",
        "b = int(input(\"b: \"))\n",
        "c = int(input(\"c: \"))\n",
        "\n",
        "\n",
        "for i in range(a, b + 1):\n",
        "    if i % c == 0:\n",
        "        print(i, end=\" \")\n",
        "\n",
        "\n",
        "\n",
        "\n",
        "# --------------\n",
        "# Пример вывода:\n",
        "#\n",
        "# a = 1\n",
        "# b = 10\n",
        "# c = 2\n",
        "# 2 4 6 8 10\n"
      ],
      "execution_count": null,
      "outputs": [
        {
          "output_type": "stream",
          "name": "stdout",
          "text": [
            "a: 1\n",
            "b: 10\n",
            "c: 2\n",
            "2 4 6 8 10 "
          ]
        }
      ]
    },
    {
      "cell_type": "markdown",
      "metadata": {
        "id": "X3DuC9IzXaJF"
      },
      "source": [
        "№ 4.2.20\n",
        "\n",
        "Выведите на экран (в строку) все трехзначные натуральные числа, сумма цифр которых равна целому числу n (0<n≤27)."
      ]
    },
    {
      "cell_type": "code",
      "metadata": {
        "id": "IixnoRi8XacK",
        "colab": {
          "base_uri": "https://localhost:8080/"
        },
        "outputId": "002be5d7-df93-443d-e35b-9a1c71a9317b"
      },
      "source": [
        "# Задание task_04_02_20.\n",
        "#\n",
        "# Выполнил: Макарова В.С.\n",
        "# Группа: АДЭУ-211\n",
        "# E-mail: Makarova_VS@mgpu.ru\n",
        "\n",
        "n = int(input(\"n: \"))\n",
        "\n",
        "\n",
        "for number in range(100, 1000):\n",
        "\n",
        "    number_sum = 0\n",
        "    number_index = 0\n",
        "    number_slice = 0\n",
        "\n",
        "    while number_slice != number:\n",
        "        number_slice = number % 10**(number_index + 1)\n",
        "        digit = (number_slice - number % 10**number_index) / 10**number_index\n",
        "        number_sum += int(digit)\n",
        "        number_index += 1\n",
        "\n",
        "    if number_sum == n:\n",
        "        print(number, end=\" \")\n",
        "\n",
        "\n",
        "\n",
        "# --------------\n",
        "# Пример вывода:\n",
        "#\n",
        "# n = 3\n",
        "# 102 111 120 201 210 300\n"
      ],
      "execution_count": null,
      "outputs": [
        {
          "output_type": "stream",
          "name": "stdout",
          "text": [
            "n: 3\n",
            "102 111 120 201 210 300 "
          ]
        }
      ]
    }
  ]
}