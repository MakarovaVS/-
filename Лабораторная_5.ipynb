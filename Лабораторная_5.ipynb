{
  "cells": [
    {
      "cell_type": "markdown",
      "metadata": {
        "id": "view-in-github",
        "colab_type": "text"
      },
      "source": [
        "<a href=\"https://colab.research.google.com/github/MakarovaVS/-/blob/main/%D0%9B%D0%B0%D0%B1%D0%BE%D1%80%D0%B0%D1%82%D0%BE%D1%80%D0%BD%D0%B0%D1%8F_5.ipynb\" target=\"_parent\"><img src=\"https://colab.research.google.com/assets/colab-badge.svg\" alt=\"Open In Colab\"/></a>"
      ]
    },
    {
      "cell_type": "markdown",
      "metadata": {
        "id": "j950Gj7dIlDM"
      },
      "source": [
        "№ 5.2.2\n",
        "\n",
        "Дан список температурных изменений в течение дня (целые числа). Известно, что измеряющее устройство иногда сбоит и записывает отсутствие температуры (значение None)."
      ]
    },
    {
      "cell_type": "code",
      "execution_count": null,
      "metadata": {
        "colab": {
          "base_uri": "https://localhost:8080/"
        },
        "id": "Ilf2_WW2IiqE",
        "outputId": "2ad95fce-0a29-4ee0-a703-a96b7f6ed099"
      },
      "outputs": [
        {
          "name": "stdout",
          "output_type": "stream",
          "text": [
            "Количество измерений:\n",
            "3\n",
            "Измерение 1\n",
            "10\n",
            "Измерение 2\n",
            "-\n",
            "Измерение 3\n",
            "20\n",
            "Средняя температура:15.0\n"
          ]
        }
      ],
      "source": [
        "# Задание task_05_02_02.\n",
        "#\n",
        "# Выполнила: Макарова В.С.\n",
        "# Группа: АДЭУ-211\n",
        "# E-mail: Makarova_VS@mgpu.ru\n",
        "\n",
        "print('Количество измерений:')\n",
        "n = int(input())\n",
        "lst = []\n",
        "for i in range(n):\n",
        "    print('Измерение ' + f\"{i + 1}\")\n",
        "    lst.append(input())\n",
        "\n",
        "\n",
        "def cleared_data(data):\n",
        "    for f in data:\n",
        "        if f == '-':\n",
        "            lst.remove(f)\n",
        "    return data\n",
        "\n",
        "\n",
        "def avg(data):\n",
        "    g = 0\n",
        "    new_data = cleared_data(data)\n",
        "    for value in new_data:\n",
        "        g += int(value)\n",
        "    result = g / len(new_data)\n",
        "    return float(result)\n",
        "\n",
        "\n",
        "res = avg(lst)\n",
        "print('Средняя температура:' + str(res))\n",
        "\n",
        "\n",
        "# --------------\n",
        "# Пример вывода:\n",
        "#\n",
        "# Кол-во измерений: 3\n",
        "# Измерение 1-е: 10\n",
        "# Измерение 2-е: -\n",
        "# Измерение 3-е: 20\n",
        "# Средняя температура: 15.00\n"
      ]
    },
    {
      "cell_type": "markdown",
      "metadata": {
        "id": "Xp5WNnBkJaeh"
      },
      "source": [
        "№ 5.2.3\n",
        "\n",
        "Выведите все счастливые номера билетов в диапазоне от  до  (положительные целые числа, ), если известно, что счастливым считается номер, у которого количество четных цифр равно количеству нечетных."
      ]
    },
    {
      "cell_type": "code",
      "execution_count": null,
      "metadata": {
        "colab": {
          "base_uri": "https://localhost:8080/"
        },
        "id": "T_OKYD4pJa1o",
        "outputId": "e2c49f64-3bd2-420c-f473-6793e1efb499"
      },
      "outputs": [
        {
          "name": "stdout",
          "output_type": "stream",
          "text": [
            "Первый номер билета:\n",
            "10\n",
            "Последний номер билета:\n",
            "25\n"
          ]
        }
      ],
      "source": [
        "# Задание task_05_02_03.\n",
        "#\n",
        "# Выполнила: Макарова В.С.\n",
        "# Группа: АДЭУ-211\n",
        "# E-mail: Makarova_VS@mgpu.ru\n",
        "\n",
        "\n",
        "def is_lucky(num):\n",
        "    even_num = 0\n",
        "    odd_num = 0\n",
        "    for elements in num:\n",
        "        if elements % 2 == 0:\n",
        "            even_num += 1\n",
        "        else:\n",
        "            odd_num += 1\n",
        "    if even_num == odd_num:\n",
        "        return True\n",
        "    else:\n",
        "        return False\n",
        "\n",
        "\n",
        "def lucky_numbers(a, b):\n",
        "    for i in range(a, b + 1):\n",
        "        numbers = [int(n) for n in str(i)]\n",
        "        if is_lucky(numbers) is True:\n",
        "            print(i)\n",
        "\n",
        "\n",
        "print('Первый номер билета:')\n",
        "a = int(input())\n",
        "print('Последний номер билета:')\n",
        "b = int(input())\n",
        "\n",
        "# --------------\n",
        "# Пример вывода:\n",
        "#\n",
        "# Первый номер билета: 10\n",
        "# Последний номер билета: 25\n",
        "# 10 12 14 16 18 21 23 25\n"
      ]
    },
    {
      "cell_type": "markdown",
      "metadata": {
        "id": "aLSgpg6SK4YR"
      },
      "source": [
        "№ 5.2.4\n",
        "\n",
        "Дата характеризуется тремя натуральными числами: день, месяц и год. Учитывая, что год может быть високосным, реализуйте две функции, которые определяют вчерашнюю и завтрашнюю дату."
      ]
    },
    {
      "cell_type": "code",
      "execution_count": null,
      "metadata": {
        "colab": {
          "base_uri": "https://localhost:8080/"
        },
        "id": "7_qqRJO1K4px",
        "outputId": "eb7401c0-8b90-45f8-ec6f-6b2f813a468c"
      },
      "outputs": [
        {
          "name": "stdout",
          "output_type": "stream",
          "text": [
            "Введите число, месяц, год через пробел:\n",
            "1 3 2000\n",
            "Предыдущий день: 29/2/2000\n",
            "Следующий день: 2/3/2000\n"
          ]
        },
        {
          "data": {
            "text/plain": [
              "3"
            ]
          },
          "execution_count": 10,
          "metadata": {},
          "output_type": "execute_result"
        }
      ],
      "source": [
        "# Задание task_05_02_04.\n",
        "#\n",
        "# Выполнила: Макарова В.С.\n",
        "# Группа: АДЭУ-211\n",
        "# E-mail: Makarova_VS@mgpu.ru\n",
        "\n",
        "print('Введите число, месяц, год через пробел:')\n",
        "\n",
        "n = input()\n",
        "m = n.split()\n",
        "day_int = int(m[0])\n",
        "month_int = int(m[1])\n",
        "year_int = int(m[2])\n",
        "\n",
        "\n",
        "def is_leap(year):\n",
        "    if (year % 4 == 0) and (year % 100 != 0) or (year % 400 == 0):\n",
        "        return True\n",
        "    else:\n",
        "        return False\n",
        "\n",
        "\n",
        "def days(month, year):\n",
        "    if is_leap(year) is not True:\n",
        "        num_days = (31, 28, 31, 30, 31, 30, 31, 31, 30, 31, 30, 31)\n",
        "        return num_days[month - 1]\n",
        "    else:\n",
        "        num_days = (31, 29, 31, 30, 31, 30, 31, 31, 30, 31, 30, 31)\n",
        "        return num_days[month - 1]\n",
        "\n",
        "\n",
        "def previous_day(day, month, year):\n",
        "    if day == 1:\n",
        "        month -= 1\n",
        "        day = days(month, year)\n",
        "        year = year\n",
        "    else:\n",
        "        day = day - 1\n",
        "        month = month\n",
        "        year = year\n",
        "    return(f\"{day}/{month}/{year}\")\n",
        "\n",
        "\n",
        "def next_day(day, month, year):\n",
        "    if day == 31 and month == 12:\n",
        "        year += 1\n",
        "        day = 1\n",
        "        month = 1\n",
        "    elif days(month, year) == day:\n",
        "        day = 1\n",
        "        month += 1\n",
        "        year = year\n",
        "    else:\n",
        "        day += 1\n",
        "        month = month\n",
        "        year = year\n",
        "    return(f\"{day}/{month}/{year}\")\n",
        "\n",
        "\n",
        "p = previous_day(day_int, month_int, year_int)\n",
        "n = next_day(day_int, month_int, year_int)\n",
        "\n",
        "\n",
        "print('Предыдущий день: ' + p)\n",
        "print('Следующий день: ' + n)\n",
        "\n",
        "# --------------\n",
        "# Пример вывода:\n",
        "#\n",
        "# День, месяц, год через пробел: 1 3 2000\n",
        "# Предыдущий день: 29/02/2000\n",
        "# Следующий день: 02/03/2000\n",
        "3\n",
        "\n"
      ]
    },
    {
      "cell_type": "markdown",
      "metadata": {
        "id": "4RxKvLafM4S7"
      },
      "source": [
        "№ 5.2.5\n",
        "\n",
        "В задаче № 5.2.4 замените функции получения вчерашней и завтрашней даты на одну:\n",
        "\n",
        "def another_date(day, month, year, delta=1):\n",
        "    pass"
      ]
    },
    {
      "cell_type": "code",
      "execution_count": null,
      "metadata": {
        "colab": {
          "base_uri": "https://localhost:8080/"
        },
        "id": "WVFdq_eAM4j-",
        "outputId": "2f231d4a-de04-4d97-d43a-09d9ff43c557"
      },
      "outputs": [
        {
          "name": "stdout",
          "output_type": "stream",
          "text": [
            "Введите число, месяц, год через пробел:\n",
            "1 1 2000\n",
            "Сдвиг\n",
            "2\n",
            "Новый день:3/1/2000\n"
          ]
        }
      ],
      "source": [
        "# Задание task_05_02_05.\n",
        "#\n",
        "# Выполнила: Макарова В.С.\n",
        "# Группа: АДЭУ-211\n",
        "# E-mail: Makarova_VS@mgpu.ru\n",
        "\n",
        "print('Введите число, месяц, год через пробел:')\n",
        "\n",
        "n = input()\n",
        "m = n.split()\n",
        "day_int = int(m[0])\n",
        "month_int = int(m[1])\n",
        "year_int = int(m[2])\n",
        "\n",
        "print('Сдвиг')\n",
        "shift = int(input())\n",
        "\n",
        "def is_leap(year):\n",
        "    if (year % 4 == 0) and (year % 100 != 0) or (year % 400 == 0):\n",
        "        return True\n",
        "    else:\n",
        "        return False\n",
        "\n",
        "\n",
        "def days(month, year):\n",
        "    if is_leap(year) is not True:\n",
        "        num_days = (31, 28, 31, 30, 31, 30, 31, 31, 30, 31, 30, 31)\n",
        "        return num_days[month - 1]\n",
        "    else:\n",
        "        num_days = (31, 29, 31, 30, 31, 30, 31, 31, 30, 31, 30, 31)\n",
        "        return num_days[month - 1]\n",
        "\n",
        "\n",
        "def another_date(day, month, year, delta):\n",
        "    delta = shift\n",
        "\n",
        "    def previous_day(day, month, year):\n",
        "        if day == 1:\n",
        "            month -= 1\n",
        "            day = days(month, year) + delta\n",
        "            year = year\n",
        "        else:\n",
        "            day += delta\n",
        "            month = month\n",
        "            year = year\n",
        "        return (f\"{day}/{month}/{year}\")\n",
        "\n",
        "    def next_day(day, month, year):\n",
        "        if day == 31 and month == 12:\n",
        "            year += 1\n",
        "            day = delta\n",
        "            month = 1\n",
        "        elif days(month, year) == day:\n",
        "            day = delta\n",
        "            month += 1\n",
        "            year = year\n",
        "        else:\n",
        "            day += delta\n",
        "            month = month\n",
        "            year = year\n",
        "        return (f\"{day}/{month}/{year}\")\n",
        "\n",
        "    if delta < 0:\n",
        "        new_day = previous_day(day, month, year)\n",
        "        return new_day\n",
        "    else:\n",
        "        new_day = next_day(day, month, year)\n",
        "        return new_day\n",
        "\n",
        "\n",
        "p = another_date(day_int, month_int, year_int, shift)\n",
        "\n",
        "print('Новый день:' + p)\n",
        "\n",
        "# --------------\n",
        "# Пример вывода:\n",
        "#\n",
        "# День, месяц, год через пробел: 1 1 2000\n",
        "# Свдиг (может быть отрицательным): -2\n",
        "# Новый день: 30/12/1999\n",
        "#\n",
        "# День, месяц, год через пробел: 1 1 2000\n",
        "# Свдиг (может быть отрицательным): 2\n",
        "# Новый день: 03/01/2000\n"
      ]
    },
    {
      "cell_type": "markdown",
      "metadata": {
        "id": "ZkRPLc5bG5_i"
      },
      "source": [
        "№ 5.2.7\n",
        "\n",
        "Даны n предложений. Определите, сколько из них содержат хотя бы одну цифру."
      ]
    },
    {
      "cell_type": "code",
      "execution_count": null,
      "metadata": {
        "colab": {
          "base_uri": "https://localhost:8080/"
        },
        "id": "30rptyNpEvKw",
        "outputId": "14211536-9967-4f36-cc56-0c47b8a936b2"
      },
      "outputs": [
        {
          "name": "stdout",
          "output_type": "stream",
          "text": [
            "Введите количество предложений:\n",
            "3\n",
            "Введите предложение 1\n",
            "просто текст\n",
            "Введите предложение 2\n",
            "текст с цифрой 1\n",
            "Введите предложение 3\n",
            "тут нет цифры\n",
            "Предложений с цифрой: 1\n"
          ]
        }
      ],
      "source": [
        "# Задание task_05_02_07.\n",
        "#\n",
        "# Выполнил: Макарова В.С.\n",
        "# Группа: АДЭУ-211\n",
        "# E-mail: Makarova_VS@mgpu.ru\n",
        "\n",
        "print('Введите количество предложений:')\n",
        "n = int(input())\n",
        "lst = []\n",
        "for i in range(n):\n",
        "    print('Введите предложение ' + f\"{i + 1}\")\n",
        "    lst.append(input())\n",
        "\n",
        "\n",
        "def has_digits(sentence):\n",
        "    sentences = []\n",
        "    for line in sentence:\n",
        "        if any(map(str.isdigit, line)):\n",
        "            sentences.append(line)\n",
        "    return sentences\n",
        "\n",
        "\n",
        "def sentences_with_digits_count(sentences):\n",
        "    n = has_digits(sentences)\n",
        "    return(len(n))\n",
        "\n",
        "\n",
        "len_sent = sentences_with_digits_count(lst)\n",
        "print('Предложений с цифрой: ' + str(len_sent))\n",
        "\n",
        "# --------------\n",
        "# Пример вывода:\n",
        "#\n",
        "# Введите количество предложений: 3\n",
        "# Введите предложение №1:\n",
        "# Просто текст\n",
        "# Введите предложение №2:\n",
        "# Текст с цифрой 1 (один)\n",
        "# Введите предложение №3:\n",
        "# Тут нет цифры\n",
        "# Предложений с цифрой = 1\n",
        "\n",
        "\n",
        "\n",
        "\n"
      ]
    },
    {
      "cell_type": "markdown",
      "metadata": {
        "id": "VW0IjY4xPG5h"
      },
      "source": [
        "№ 5.2.8\n",
        "\n",
        "Дана строка s и k символ . Реализуйте функцию, рисующую рамку из символа  вокруг данной строки, например:\n",
        "\n",
        "***************\n",
        "*Текст в рамке*\n",
        "***************"
      ]
    },
    {
      "cell_type": "code",
      "execution_count": 1,
      "metadata": {
        "id": "-gCFGykWPHMS",
        "colab": {
          "base_uri": "https://localhost:8080/"
        },
        "outputId": "13c2c5d4-3072-4d08-d4ee-f5a5f86681d9"
      },
      "outputs": [
        {
          "output_type": "stream",
          "name": "stdout",
          "text": [
            "Введите строку:\n",
            "Просто текст\n",
            "Введите символ:\n",
            "+\n",
            "++++++++++++\n",
            "Просто текст\n",
            "++++++++++++\n"
          ]
        }
      ],
      "source": [
        "# Задание task_05_02_08.\n",
        "#\n",
        "# Выполнила: Макарова В.С.\n",
        "# Группа: АДЭУ-211\n",
        "# E-mail: Makarova_VS@mgpu.ru\n",
        "\n",
        "print('Введите строку:')\n",
        "s = input()\n",
        "print('Введите символ:')\n",
        "k = input()\n",
        "\n",
        "\n",
        "def print_with_border(string, char):\n",
        "    n = len(string)\n",
        "    print(char * n)\n",
        "    print(string)\n",
        "    print(char * n)\n",
        "\n",
        "\n",
        "print_with_border(s, k)\n",
        "\n",
        "\n",
        "\n",
        "# --------------\n",
        "# Пример вывода:\n",
        "#\n",
        "# Введите строку: Просто текст\n",
        "# Введите символ: +\n",
        "# ++++++++++++++\n",
        "# +Просто текст+\n",
        "# ++++++++++++++\n",
        "\n",
        "\n"
      ]
    },
    {
      "cell_type": "markdown",
      "metadata": {
        "id": "6ipsANJ_Sh92"
      },
      "source": [
        "№ 5.2.10\n",
        "\n",
        "Для введенного предложения выведите статистику символ=количество. Регистр букв не учитывается."
      ]
    },
    {
      "cell_type": "code",
      "execution_count": 2,
      "metadata": {
        "id": "XxY6kuy1SiPd",
        "colab": {
          "base_uri": "https://localhost:8080/"
        },
        "outputId": "8106257b-c35e-4efa-c430-a502ea907530"
      },
      "outputs": [
        {
          "output_type": "stream",
          "name": "stdout",
          "text": [
            "Введите строку:\n",
            "мама МЫла РамУ\n",
            "{'м': 4, 'а': 4, 'ы': 1, 'л': 1, 'р': 1, 'у': 1}\n"
          ]
        }
      ],
      "source": [
        "# Задание task_05_02_10.\n",
        "#\n",
        "# Выполнила: Макарова В.С.\n",
        "# Группа: АДЭУ-211\n",
        "# E-mail: Makarova_VS@mgpu.ru\n",
        "\n",
        "from collections import Counter\n",
        "\n",
        "print('Введите строку:')\n",
        "string = input().lower()\n",
        "\n",
        "\n",
        "def sentence_stats(sentence):\n",
        "    count = Counter(sentence).most_common()\n",
        "    count_dict = dict(count)\n",
        "    del count_dict[' ']\n",
        "    print(count_dict)\n",
        "\n",
        "\n",
        "sentence_stats(string)\n",
        "\n",
        "# --------------\n",
        "# Пример вывода:\n",
        "#\n",
        "# Введите предложение: мама МЫла РамУ\n",
        "# {'л': 1, 'р': 1, 'у': 1, 'м': 4, 'а': 4, 'ы': 1, ' ': 2}\n"
      ]
    },
    {
      "cell_type": "markdown",
      "metadata": {
        "id": "LvxkH_SjTUya"
      },
      "source": [
        "№ 5.2.11\n",
        "\n",
        "Используя шифр Цезаря (достаточно только букв русского алфавита, знаки препинания не изменяются), зашифруйте, а затем расшифруйте введенную строку."
      ]
    },
    {
      "cell_type": "code",
      "execution_count": 3,
      "metadata": {
        "id": "Xp2lY2snTVCn",
        "colab": {
          "base_uri": "https://localhost:8080/"
        },
        "outputId": "484ef615-c921-42d2-bc3e-5cf92fe835c4"
      },
      "outputs": [
        {
          "output_type": "stream",
          "name": "stdout",
          "text": [
            "Введите предложение:\n",
            "ПрограММиРОВание С++\n",
            "Введите сдвиг:\n",
            "4\n",
            "Зашифрованная строка:УфтзфдРРмФТЖдсмй Х++\n",
            "Расшифрованная строка:ПрограММиРОВание С++\n"
          ]
        }
      ],
      "source": [
        "# Задание task_05_02_11.\n",
        "#\n",
        "# Выполнила: Макарова В.С.\n",
        "# Группа: АДЭУ-211\n",
        "# E-mail: Makarova_VS@mgpu.ru\n",
        "\n",
        "import string\n",
        "\n",
        "print('Введите предложение:')\n",
        "text = input()\n",
        "print('Введите сдвиг:')\n",
        "shift = int(input())\n",
        "\n",
        "\n",
        "def ceasar(text, shift):\n",
        "    result = ''\n",
        "    letters = [chr(i) for i in range(ord('а'), ord('я') + 1)]\n",
        "    letters_two = [chr(i) for i in range(ord('А'), ord('Я') + 1)]\n",
        "    for let in letters_two:\n",
        "        letters.append(let)\n",
        "    for n in text:\n",
        "        if n in letters:\n",
        "            pos = letters.index(n)\n",
        "            new_pos = pos + shift\n",
        "            s = letters[new_pos]\n",
        "            result += s\n",
        "        else:\n",
        "            result += n\n",
        "    return result\n",
        "\n",
        "def decrypt(text, shift):\n",
        "    result = ''\n",
        "    letters = [chr(i) for i in range(ord('а'), ord('я') + 1)]\n",
        "    letters_two = [chr(i) for i in range(ord('А'), ord('Я') + 1)]\n",
        "    for let in letters_two:\n",
        "        letters.append(let)\n",
        "    for n in text:\n",
        "        if n in letters:\n",
        "            pos = letters.index(n)\n",
        "            new_pos = pos - shift\n",
        "            s = letters[new_pos]\n",
        "            result += s\n",
        "        else:\n",
        "            result += n\n",
        "    return result\n",
        "\n",
        "encoder = ceasar(text, shift)\n",
        "decoder = decrypt(encoder, shift)\n",
        "print('Зашифрованная строка:' + encoder)\n",
        "print('Расшифрованная строка:' + decoder)\n",
        "\n",
        "\n",
        "\n",
        "# --------------\n",
        "# Пример вывода:\n",
        "#\n",
        "# Введите предложение: ПрограММиРОВание С++\n",
        "# Введите сдвиг: 4\n",
        "# Зашифрованная строка: УфтзфдРРмФТЖдсмй Х++\n",
        "# Расшифрованная строка: ПрограММиРОВание С++\n"
      ]
    },
    {
      "cell_type": "markdown",
      "metadata": {
        "id": "I8SAK9iXT4EF"
      },
      "source": [
        "№ 5.2.17\n",
        "\n",
        "Дано натуральное число. Напишите рекурсивные функции для определения:\n",
        "\n",
        "суммы цифр числа;\n",
        "\n",
        "количества цифр в числе.\n",
        "\n"
      ]
    },
    {
      "cell_type": "code",
      "execution_count": 4,
      "metadata": {
        "id": "j1C9ILv7T4Q_",
        "colab": {
          "base_uri": "https://localhost:8080/"
        },
        "outputId": "e94f9103-6601-4a75-a3ec-b9579252cf2d"
      },
      "outputs": [
        {
          "output_type": "stream",
          "name": "stdout",
          "text": [
            "15\n",
            "5\n"
          ]
        }
      ],
      "source": [
        "# Задание task_05_02_17.\n",
        "#\n",
        "# Выполнила: Макарова В.С.\n",
        "# Группа: АДЭУ-211\n",
        "# E-mail: Makarova_VS@mgpu.ru\n",
        "\n",
        "\n",
        "def digits_sum(value):\n",
        "    if value > 0:\n",
        "        return digits_sum(value // 10) + value % 10\n",
        "    else:\n",
        "        return 0\n",
        "\n",
        "\n",
        "def digits_count(value):\n",
        "    if value < 10:\n",
        "        return 1\n",
        "    else:\n",
        "        return 1 + digits_count(value / 10)\n",
        "\n",
        "    \n",
        "print(digits_sum(12345))\n",
        "print(digits_count(12345))\n",
        "\n",
        "\n",
        "# --------------\n",
        "# Пример вывода:\n",
        "#\n",
        "# 15\n",
        "# 5\n"
      ]
    }
  ],
  "metadata": {
    "colab": {
      "name": "Лабораторная 5",
      "provenance": [],
      "authorship_tag": "ABX9TyMn1moIVgQwlyaO81FhVm0L",
      "include_colab_link": true
    },
    "kernelspec": {
      "display_name": "Python 3",
      "name": "python3"
    },
    "language_info": {
      "name": "python"
    }
  },
  "nbformat": 4,
  "nbformat_minor": 0
}