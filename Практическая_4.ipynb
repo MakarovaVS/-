{
  "nbformat": 4,
  "nbformat_minor": 0,
  "metadata": {
    "colab": {
      "name": "Практическая 4",
      "provenance": [],
      "authorship_tag": "ABX9TyOo4FHWALbBuVUa4IFTMn5b",
      "include_colab_link": true
    },
    "kernelspec": {
      "name": "python3",
      "display_name": "Python 3"
    },
    "language_info": {
      "name": "python"
    }
  },
  "cells": [
    {
      "cell_type": "markdown",
      "metadata": {
        "id": "view-in-github",
        "colab_type": "text"
      },
      "source": [
        "<a href=\"https://colab.research.google.com/github/MakarovaVS/-/blob/main/%D0%9F%D1%80%D0%B0%D0%BA%D1%82%D0%B8%D1%87%D0%B5%D1%81%D0%BA%D0%B0%D1%8F_4.ipynb\" target=\"_parent\"><img src=\"https://colab.research.google.com/assets/colab-badge.svg\" alt=\"Open In Colab\"/></a>"
      ]
    },
    {
      "cell_type": "code",
      "metadata": {
        "colab": {
          "base_uri": "https://localhost:8080/"
        },
        "id": "RLcXEA5nJGJs",
        "outputId": "be8f12ba-9b9a-4466-8e6e-f1b62e7ff902"
      },
      "source": [
        "import random\n",
        "\n",
        "\n",
        "class Place:\n",
        "\t\n",
        "\tdef __init__(self, name, area, population):\n",
        "\t\tself.name = name\n",
        "\t\tself.area = area\n",
        "\t\tself.population = population\n",
        "\t\tself.inner_places = [\"Подольск\",\"Балашиха\",\"Химки\"]\n",
        "\n",
        "\tdef add_inner_place(self, new_place):\n",
        "\t\tif new_place in self.inner_places:\n",
        "\t\t\traise ValueError(f\"Это место уже добавлено: {new_place}\")\n",
        "\n",
        "\t\tself.inner_places.append(new_place)\n",
        "\t\tself.population += new_place.population\n",
        "\t\tself.area += new_place.area\n",
        "\n",
        "\tdef remove_inner_place(self, place):\n",
        "\t\tif place not in self.inner_places:\n",
        "\t\t\traise ValueError(f\"Этого места здесь нет: {place}\")\n",
        "\n",
        "\t\tself.inner_places.remove(place)\n",
        "\t\tself.population -= place.population\n",
        "\t\tself.area -= place.area\n",
        "\n",
        "\tdef get_inner_places(self):\n",
        "\t\treturn self.inner_places\n",
        "\n",
        "\n",
        "\n",
        "class Region(Place):\n",
        "\t\t\n",
        "\tdef get_cities(self):\n",
        "\t\tcities = []\n",
        "\t\tfor place in self.inner_places:\n",
        "\t\t\tif isinstance(place, City):\n",
        "\t\t\t\tcities.append(place)\n",
        "\t\treturn cities\n",
        "\t\t\t\t\n",
        "\t\n",
        "\tdef get_cities_population(self):\n",
        "\t\ttotal_city_pop = 0\n",
        "\t\tfor city in self.get_cities():\n",
        "\t\t\ttotal_city_pop += city.population\n",
        "\t\treturn total_city_pop\n",
        "\t\t\t\n",
        "\t\t\n",
        "\n",
        "\n",
        "class City(Place):\n",
        "\t\n",
        "\tdef __init__(self, name, area, population, current_mayor, budget):\n",
        "\t\tsuper().__init__(name, area, population)\n",
        "\t\tself.current_mayor = current_mayor\n",
        "\t\tself.budget = budget\n",
        "\n",
        "\tdef set_mayor(self, new_mayor):\n",
        "    \n",
        "\n",
        "\tdef get_mayor(self):\n",
        "\t\treturn self.current_mayor\n",
        "\n",
        "\n",
        "\n",
        "class Megapolis(City):\n",
        "\n",
        "\tdef __init__(self, name, area, population, current_mayor, budget, eco_level):\n",
        "\t\tsuper().__init__(name, area, population, current_mayor, budget)\n",
        "\t\tself.eco_level = eco_level\n",
        "\n",
        "\n",
        "\t\n",
        "\t\t\n",
        "\tdef improve_ecology(self, cost):\n",
        "\t\tglobal budget\n",
        "\t\t\n",
        "\t\tbudget-=cost\t\n",
        "\t\teco_level+=1\n",
        "\t\treturn eco_level\n",
        "\t\t\n",
        "\t\t\n",
        "\n",
        "\tdef get_eco_level(self):\n",
        "\t\treturn self.eco_level\n",
        "\n",
        "place1= Place(\"Казань)\n",
        "place2= Place(\"Орел\", 20, 8)\n",
        "place1.add_inner_place(place2)\n",
        "\n",
        "place1.remove_inner_place(place2)\n",
        "\n",
        "place1. get_inner_places()\n",
        "\n",
        "\n",
        "\n",
        "print(place1.inner_places)\n",
        "print(place1.inner_places)\n",
        "\n",
        "\n",
        "\n",
        "city1=Region(\"fgh\", 45,56)\n",
        "city1.get_cities()\n",
        "print(city1.inner_places)\n",
        "\n",
        "eco=Megapolis(\"Орел\", 20, 8, \"Петров\", 450, 3)\n",
        "eco.get_eco_level()\n",
        "\n",
        "\n",
        "m=City(\"Новгород\", 40, 82, \"Петров\", 300)\n",
        "m.get_mayor()\n",
        "\n",
        "eco=Megapolis(\"Орел\", 20, 8, \"Иванов\", 450, 3)\n",
        "eco.get_eco_level()\n",
        "\n",
        "\n"
      ],
      "execution_count": 73,
      "outputs": [
        {
          "output_type": "stream",
          "name": "stdout",
          "text": [
            "['Подольск', 'Балашиха', 'Химки']\n",
            "['Подольск', 'Балашиха', 'Химки']\n",
            "['Подольск', 'Балашиха', 'Химки']\n"
          ]
        },
        {
          "output_type": "execute_result",
          "data": {
            "text/plain": [
              "3"
            ]
          },
          "metadata": {},
          "execution_count": 73
        }
      ]
    }
  ]
}